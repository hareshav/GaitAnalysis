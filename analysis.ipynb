{
 "cells": [
  {
   "cell_type": "code",
   "execution_count": 50,
   "metadata": {},
   "outputs": [
    {
     "name": "stdout",
     "output_type": "stream",
     "text": [
      "           0         1         2         3         4         5         6    \\\n",
      "0     0.288585 -0.020294 -0.132905 -0.995279 -0.983111 -0.913526 -0.995112   \n",
      "1     0.278419 -0.016411 -0.123520 -0.998245 -0.975300 -0.960322 -0.998807   \n",
      "2     0.279653 -0.019467 -0.113462 -0.995380 -0.967187 -0.978944 -0.996520   \n",
      "3     0.279174 -0.026201 -0.123283 -0.996091 -0.983403 -0.990675 -0.997099   \n",
      "4     0.276629 -0.016570 -0.115362 -0.998139 -0.980817 -0.990482 -0.998321   \n",
      "...        ...       ...       ...       ...       ...       ...       ...   \n",
      "7347  0.299665 -0.057193 -0.181233 -0.195387  0.039905  0.077078 -0.282301   \n",
      "7348  0.273853 -0.007749 -0.147468 -0.235309  0.004816  0.059280 -0.322552   \n",
      "7349  0.273387 -0.017011 -0.045022 -0.218218 -0.103822  0.274533 -0.304515   \n",
      "7350  0.289654 -0.018843 -0.158281 -0.219139 -0.111412  0.268893 -0.310487   \n",
      "7351  0.351503 -0.012423 -0.203867 -0.269270 -0.087212  0.177404 -0.377404   \n",
      "\n",
      "           7         8         9    ...       551       552       553  \\\n",
      "0    -0.983185 -0.923527 -0.934724  ... -0.074323 -0.298676 -0.710304   \n",
      "1    -0.974914 -0.957686 -0.943068  ...  0.158075 -0.595051 -0.861499   \n",
      "2    -0.963668 -0.977469 -0.938692  ...  0.414503 -0.390748 -0.760104   \n",
      "3    -0.982750 -0.989302 -0.938692  ...  0.404573 -0.117290 -0.482845   \n",
      "4    -0.979672 -0.990441 -0.942469  ...  0.087753 -0.351471 -0.699205   \n",
      "...        ...       ...       ...  ...       ...       ...       ...   \n",
      "7347  0.043616  0.060410  0.210795  ... -0.070157 -0.588433 -0.880324   \n",
      "7348 -0.029456  0.080585  0.117440  ...  0.165259 -0.390738 -0.680744   \n",
      "7349 -0.098913  0.332584  0.043999  ...  0.195034  0.025145 -0.304029   \n",
      "7350 -0.068200  0.319473  0.101702  ...  0.013865  0.063907 -0.344314   \n",
      "7351 -0.038678  0.229430  0.269013  ... -0.058402 -0.387052 -0.740738   \n",
      "\n",
      "           554       555       556       557       558       559       560  \n",
      "0    -0.112754  0.030400 -0.464761 -0.018446 -0.841247  0.179941 -0.058627  \n",
      "1     0.053477 -0.007435 -0.732626  0.703511 -0.844788  0.180289 -0.054317  \n",
      "2    -0.118559  0.177899  0.100699  0.808529 -0.848933  0.180637 -0.049118  \n",
      "3    -0.036788 -0.012892  0.640011 -0.485366 -0.848649  0.181935 -0.047663  \n",
      "4     0.123320  0.122542  0.693578 -0.615971 -0.847865  0.185151 -0.043892  \n",
      "...        ...       ...       ...       ...       ...       ...       ...  \n",
      "7347 -0.190437  0.829718  0.206972 -0.425619 -0.791883  0.238604  0.049819  \n",
      "7348  0.064907  0.875679 -0.879033  0.400219 -0.771840  0.252676  0.050053  \n",
      "7349  0.052806 -0.266724  0.864404  0.701169 -0.779133  0.249145  0.040811  \n",
      "7350 -0.101360  0.700740  0.936674 -0.589479 -0.785181  0.246432  0.025339  \n",
      "7351 -0.280088 -0.007739 -0.056088 -0.616956 -0.783267  0.246809  0.036695  \n",
      "\n",
      "[7352 rows x 561 columns]\n"
     ]
    }
   ],
   "source": [
    "import pandas as pd\n",
    "\n",
    "# Load the text file into a DataFrame\n",
    "df_trainx = pd.DataFrame(datas)\n",
    "\n",
    "# Display the first few rows of the DataFrame\n",
    "print(df_trainx.astype(float))\n"
   ]
  },
  {
   "cell_type": "code",
   "execution_count": 36,
   "metadata": {},
   "outputs": [
    {
     "name": "stdout",
     "output_type": "stream",
     "text": [
      "   0     1     2     3     4     5     6     7     8     9     ...  7342  \\\n",
      "0     5     5     5     5     5     5     5     5     5     5  ...     2   \n",
      "\n",
      "   7343  7344  7345  7346  7347  7348  7349  7350  7351  \n",
      "0     2     2     2     2     2     2     2     2     2  \n",
      "\n",
      "[1 rows x 7352 columns]\n"
     ]
    }
   ],
   "source": [
    "import pandas as pd\n",
    "\n",
    "# Load the text file into a DataFrame\n",
    "df_trainy = pd.read_csv(r'UCI HAR Dataset\\train\\y_train.txt',header=None, engine='python')\n",
    "\n",
    "# Display the first few rows of the DataFrame\n",
    "print(df_trainy)\n"
   ]
  },
  {
   "cell_type": "code",
   "execution_count": 75,
   "metadata": {},
   "outputs": [
    {
     "name": "stdout",
     "output_type": "stream",
     "text": [
      "      0\n",
      "0     5\n",
      "1     5\n",
      "2     5\n",
      "3     5\n",
      "4     5\n",
      "...  ..\n",
      "2942  2\n",
      "2943  2\n",
      "2944  2\n",
      "2945  2\n",
      "2946  2\n",
      "\n",
      "[2947 rows x 1 columns]\n"
     ]
    }
   ],
   "source": [
    "import pandas as pd\n",
    "\n",
    "# Load the text file into a DataFrame\n",
    "df_testy = pd.read_csv(r'UCI HAR Dataset\\test\\y_test.txt',header=None, engine='python')\n",
    "\n",
    "# Display the first few rows of the DataFrame\n",
    "print(df_testy)"
   ]
  },
  {
   "cell_type": "code",
   "execution_count": 68,
   "metadata": {},
   "outputs": [],
   "source": [
    "testx=open(r'UCI HAR Dataset\\test\\X_test.txt')\n",
    "testdatax=[]\n",
    "for i in testx.readlines():\n",
    "    testdatax.append(i.split())\n"
   ]
  },
  {
   "cell_type": "code",
   "execution_count": 69,
   "metadata": {},
   "outputs": [],
   "source": [
    "dftestx=pd.DataFrame(testdatax)\n"
   ]
  },
  {
   "cell_type": "code",
   "execution_count": 60,
   "metadata": {},
   "outputs": [],
   "source": [
    "import tensorflow as tf\n",
    "import numpy as np\n",
    "model=tf.keras.models.Sequential([\n",
    "    tf.keras.layers.Dense(560,activation='relu',input_shape=(561,)),\n",
    "    tf.keras.layers.Dense(280,activation='relu'),\n",
    "    tf.keras.layers.Dropout(0.3),\n",
    "    tf.keras.layers.Dense(120,activation='relu'),\n",
    "\n",
    "    tf.keras.layers.Dense(1,activation='sigmoid')\n",
    "\n",
    "])\n",
    "model.compile(optimizer='adam',\n",
    "              loss='binary_crossentropy',\n",
    "              metrics=['accuracy'])\n"
   ]
  },
  {
   "cell_type": "code",
   "execution_count": 61,
   "metadata": {},
   "outputs": [
    {
     "name": "stdout",
     "output_type": "stream",
     "text": [
      "Epoch 1/20\n",
      "230/230 [==============================] - 2s 4ms/step - loss: 0.2900 - accuracy: 0.8686\n",
      "Epoch 2/20\n",
      "230/230 [==============================] - 1s 4ms/step - loss: 0.1553 - accuracy: 0.9382\n",
      "Epoch 3/20\n",
      "230/230 [==============================] - 1s 5ms/step - loss: 0.1053 - accuracy: 0.9574\n",
      "Epoch 4/20\n",
      "230/230 [==============================] - 1s 5ms/step - loss: 0.0973 - accuracy: 0.9608\n",
      "Epoch 5/20\n",
      "230/230 [==============================] - 1s 6ms/step - loss: 0.0789 - accuracy: 0.9686\n",
      "Epoch 6/20\n",
      "230/230 [==============================] - 1s 5ms/step - loss: 0.0771 - accuracy: 0.9675\n",
      "Epoch 7/20\n",
      "230/230 [==============================] - 1s 6ms/step - loss: 0.0688 - accuracy: 0.9729\n",
      "Epoch 8/20\n",
      "230/230 [==============================] - 1s 5ms/step - loss: 0.0664 - accuracy: 0.9723\n",
      "Epoch 9/20\n",
      "230/230 [==============================] - 1s 6ms/step - loss: 0.0686 - accuracy: 0.9725\n",
      "Epoch 10/20\n",
      "230/230 [==============================] - 1s 6ms/step - loss: 0.0582 - accuracy: 0.9770\n",
      "Epoch 11/20\n",
      "230/230 [==============================] - 1s 6ms/step - loss: 0.0574 - accuracy: 0.9782\n",
      "Epoch 12/20\n",
      "230/230 [==============================] - 1s 6ms/step - loss: 0.0599 - accuracy: 0.9773\n",
      "Epoch 13/20\n",
      "230/230 [==============================] - 1s 6ms/step - loss: 0.0637 - accuracy: 0.9739\n",
      "Epoch 14/20\n",
      "230/230 [==============================] - 1s 6ms/step - loss: 0.0583 - accuracy: 0.9763\n",
      "Epoch 15/20\n",
      "230/230 [==============================] - 1s 5ms/step - loss: 0.0517 - accuracy: 0.9793\n",
      "Epoch 16/20\n",
      "230/230 [==============================] - 1s 5ms/step - loss: 0.0511 - accuracy: 0.9800\n",
      "Epoch 17/20\n",
      "230/230 [==============================] - 1s 5ms/step - loss: 0.0503 - accuracy: 0.9803\n",
      "Epoch 18/20\n",
      "230/230 [==============================] - 1s 6ms/step - loss: 0.0416 - accuracy: 0.9841\n",
      "Epoch 19/20\n",
      "230/230 [==============================] - 1s 6ms/step - loss: 0.0559 - accuracy: 0.9776\n",
      "Epoch 20/20\n",
      "230/230 [==============================] - 1s 5ms/step - loss: 0.0408 - accuracy: 0.9830\n"
     ]
    },
    {
     "data": {
      "text/plain": [
       "<keras.callbacks.History at 0x26b1c19c790>"
      ]
     },
     "execution_count": 61,
     "metadata": {},
     "output_type": "execute_result"
    }
   ],
   "source": [
    "model.fit(df_trainx.astype(float),df_trainy,epochs=20)"
   ]
  },
  {
   "cell_type": "code",
   "execution_count": 62,
   "metadata": {},
   "outputs": [],
   "source": [
    "model.save('model.h5')"
   ]
  },
  {
   "cell_type": "code",
   "execution_count": 72,
   "metadata": {},
   "outputs": [
    {
     "name": "stdout",
     "output_type": "stream",
     "text": [
      "93/93 [==============================] - 1s 3ms/step\n"
     ]
    }
   ],
   "source": [
    "yhat=model.predict(dftestx.astype(float))"
   ]
  },
  {
   "cell_type": "code",
   "execution_count": 83,
   "metadata": {},
   "outputs": [],
   "source": [
    "predict=[]\n",
    "for i in yhat:\n",
    "    if i>0.5:\n",
    "        predict.append(1)\n",
    "    else:\n",
    "        predict.append(0)\n"
   ]
  },
  {
   "cell_type": "code",
   "execution_count": 85,
   "metadata": {},
   "outputs": [
    {
     "name": "stdout",
     "output_type": "stream",
     "text": [
      "              precision    recall  f1-score   support\n",
      "\n",
      "           0       0.94      0.95      0.95      1475\n",
      "           1       0.95      0.94      0.94      1472\n",
      "\n",
      "    accuracy                           0.95      2947\n",
      "   macro avg       0.95      0.95      0.95      2947\n",
      "weighted avg       0.95      0.95      0.95      2947\n",
      "\n"
     ]
    }
   ],
   "source": [
    "from sklearn.metrics import classification_report\n",
    "print(classification_report(predict,df_testy))"
   ]
  }
 ],
 "metadata": {
  "kernelspec": {
   "display_name": "tensorflowgpu",
   "language": "python",
   "name": "python3"
  },
  "language_info": {
   "codemirror_mode": {
    "name": "ipython",
    "version": 3
   },
   "file_extension": ".py",
   "mimetype": "text/x-python",
   "name": "python",
   "nbconvert_exporter": "python",
   "pygments_lexer": "ipython3",
   "version": "3.10.13"
  }
 },
 "nbformat": 4,
 "nbformat_minor": 2
}
